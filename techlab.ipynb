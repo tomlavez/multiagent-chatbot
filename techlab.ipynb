{
 "cells": [
  {
   "cell_type": "markdown",
   "metadata": {},
   "source": [
    "Create the llm"
   ]
  },
  {
   "cell_type": "code",
   "execution_count": null,
   "metadata": {},
   "outputs": [],
   "source": [
    "import os\n",
    "from langchain_groq import ChatGroq\n",
    "\n",
    "llm = ChatGroq(\n",
    "    api_key=os.getenv(\"GROQ_API_KEY\"),\n",
    "    model=\"llama3-70b-8192\"\n",
    ")\n",
    "\n"
   ]
  },
  {
   "cell_type": "markdown",
   "metadata": {},
   "source": [
    "Google api key"
   ]
  },
  {
   "cell_type": "code",
   "execution_count": null,
   "metadata": {},
   "outputs": [],
   "source": [
    "##key = os.getenv(\"GOOGLE_API_KEY\")"
   ]
  },
  {
   "cell_type": "markdown",
   "metadata": {},
   "source": [
    "Define Tools"
   ]
  },
  {
   "cell_type": "code",
   "execution_count": null,
   "metadata": {},
   "outputs": [],
   "source": [
    "from langchain_community.tools.tavily_search import TavilySearchResults\n",
    "\n",
    "\n",
    "web_search_tool = TavilySearchResults(description=\"Procura na web por informações sobre o termo informado. Sempre utilize esta ferramenta quando o assunto em questão for sobre uma tecnologia.\", max_results=5)"
   ]
  },
  {
   "cell_type": "code",
   "execution_count": null,
   "metadata": {},
   "outputs": [],
   "source": [
    "from langchain_community.document_loaders import PyPDFLoader\n",
    "from langchain_community.vectorstores import FAISS\n",
    "from langchain_huggingface import HuggingFaceEmbeddings\n",
    "from langchain_text_splitters import RecursiveCharacterTextSplitter\n",
    "\n",
    "loader = PyPDFLoader(\"./data/Base.pdf\", extract_images=True)\n",
    "docs = loader.load()\n",
    "documents = RecursiveCharacterTextSplitter(\n",
    "    chunk_size=1000, chunk_overlap=200\n",
    ").split_documents(docs)\n",
    "vector = FAISS.from_documents(documents, HuggingFaceEmbeddings())\n",
    "retriever = vector.as_retriever()"
   ]
  },
  {
   "cell_type": "code",
   "execution_count": null,
   "metadata": {},
   "outputs": [],
   "source": [
    "from langchain.tools.retriever import create_retriever_tool\n",
    "\n",
    "rag_search_tool = create_retriever_tool(\n",
    "    retriever,\n",
    "    \"busca_informacoes\",\n",
    "    \"Procura informações sobre a sua empresa. Dentre essas informações estão os valores da empresa, habilidades comportamentais, organização interna e outros aspectos da sua cultura organizacional.\"\n",
    ")"
   ]
  },
  {
   "cell_type": "code",
   "execution_count": null,
   "metadata": {},
   "outputs": [],
   "source": [
    "from calendar_tools import GetCalendarEventsTool, CreateCalendarEventTool, CurrentTimeTool, TimeDeltaTool, SpecificTimeTool\n",
    "\n",
    "calendar_tool = [GetCalendarEventsTool(), CreateCalendarEventTool(), CurrentTimeTool(), TimeDeltaTool(), SpecificTimeTool()]"
   ]
  },
  {
   "cell_type": "code",
   "execution_count": null,
   "metadata": {},
   "outputs": [],
   "source": [
    "tools_search = [rag_search_tool, web_search_tool]"
   ]
  },
  {
   "cell_type": "markdown",
   "metadata": {},
   "source": [
    "Create the agent"
   ]
  },
  {
   "cell_type": "code",
   "execution_count": null,
   "metadata": {},
   "outputs": [],
   "source": [
    "from langchain_core.prompts import ChatPromptTemplate\n",
    "\n",
    "prompt_helper = ChatPromptTemplate.from_messages([\n",
    "  (\"system\", \"Você é um desenvolvedor sênior cujo objetivo é facilitar a integração de novos funcionários na sua empresa, ajudando-os a se familiarizar rapidamente com a cultura, políticas, programas e ferramentas de trabalho. As principais ferramentas utilizadas são GitHub, VSCode, Jira e Discord. Também pode usar qualquer outra ferramenta que interaja com essas. Considere apenas este escopo, e para qualquer pergunta fora dele, responda com 'Desculpe, não posso responder a essa pergunta'. Seja sempre educado, forneça respostas diretas, com guias passo a passo quando necessário, e em português.\"),\n",
    "  (\"placeholder\", \"{chat_history}\"),\n",
    "  (\"human\", \"{input}\"),\n",
    "  (\"placeholder\", \"{agent_scratchpad}\"),\n",
    "])"
   ]
  },
  {
   "cell_type": "code",
   "execution_count": null,
   "metadata": {},
   "outputs": [],
   "source": [
    "prompt_revisor = ChatPromptTemplate.from_messages([\n",
    "  (\"system\", \"Você é um verificador de conteúdo. Sua função é analisar a resposta gerada pelo primeiro agente e garantir que ela não contenha referências a outras empresas que não seja a nossa (tech4.ai), informações sensiveis ou discurso de ódio. Se a resposta estiver adequada, confirme com 'Resposta válida'. Se houver problemas, rejeite a resposta, retornando apenas 'Desculpe, essa informação está fora de minhas capacidades' e mais nenhum texto.\"),\n",
    "  (\"placeholder\", \"{chat_history}\"),\n",
    "  (\"human\", \"{input}\"),\n",
    "  (\"placeholder\", \"{agent_scratchpad}\"),\n",
    "])"
   ]
  },
  {
   "cell_type": "code",
   "execution_count": null,
   "metadata": {},
   "outputs": [],
   "source": [
    "prompt_request_identify = ChatPromptTemplate.from_messages([\n",
    "    (\"system\", \"Você é um assistente inteligente especializado em entender e classificar requisições de usuários em uma empresa de tecnologia. Abaixo está uma solicitação de um usuário. Sua tarefa é identificar se a solicitação é uma dúvida geral que deve ser respondida pelo agente de ajuda ou se é uma requisição relacionada ao calendário, como agendamento ou consulta de reuniões. Responda apenas com 'Calendário' se a requisição for relacionada ao calendário ou 'Ajuda' se for uma dúvida geral. Dúvidas do tipo 'como o calendário funciona' devem ser respondidas pelo agente de ajuda. Considere o contexto da conversa e responda de acordo.\"),\n",
    "    (\"placeholder\", \"{chat_history}\"),\n",
    "    (\"human\", \"{input}\"),\n",
    "    (\"placeholder\", \"{agent_scratchpad}\"),\n",
    "])"
   ]
  },
  {
   "cell_type": "code",
   "execution_count": null,
   "metadata": {},
   "outputs": [],
   "source": [
    "\n",
    "\n",
    "prompt_calendar = ChatPromptTemplate.from_messages([\n",
    "    (\"system\", \"\"\"\n",
    "    Você é um agente responsável por gerenciar o Google Calendar. Sua tarefa é auxiliar na marcação de reuniões, consulta de eventos e fornecimento de detalhes sobre eventos. Utilize sempre a data e a hora atuais como referência. Abaixo estão exemplos de solicitações que você pode receber e como deve respondê-las:\n",
    "\n",
    "    Contexto Atual:\n",
    "    - Horário atual: {current_datetime}\n",
    "    - Dia da semana: {current_weekday}\n",
    "\n",
    "    Exemplos de Soli:citações e Respostas\n",
    "    1. Solicitação: \"Marque uma reunião com João e Maria amanhã às 15h.\"\n",
    "    Resposta: \"Entendido, vou marcar uma reunião com João e Maria amanhã às 15h.\"\n",
    "    2. Solicitação: \"Quais reuniões tenho para amanhã?\"\n",
    "    Resposta: \"Você tem uma reunião de equipe às 10h, na Sala de Conferências 1, com 3 participantes, e uma revisão de projeto às 14h, na Sala de Reuniões 2, com 5 participantes.\"\n",
    "    3. Solicitação: \"Forneça os detalhes da reunião com o cliente na próxima terça-feira.\"\n",
    "    Resposta: \"A reunião com o cliente está agendada para a próxima terça-feira às 11h. O local é a Sala de Conferências 1 e o objetivo é discutir os requisitos do projeto.\"\n",
    "    4. Solicitação: \"Marque uma reunião com o cliente na próxima quinta-feira às 14h.\"\n",
    "    Resposta: \"Nesta data e horário, você já tem uma reunião agendada. Escolha outro horário ou data para a reunião com o cliente.\"\n",
    "        \n",
    "    Diretrizes Adicionais:\n",
    "    - Respostas: Não faça perguntas ao usuário, apenas forneça as informações solicitadas e feedbacks claros sobre a solicitação.\n",
    "    - Agendamento Futuro: Agende reuniões apenas para datas futuras.\n",
    "    - Referência Temporal: Considere termos como \"amanhã\" ou dias da semana mencionados, referindo-se sempre ao próximo dia correspondente.\n",
    "    - Formato de Data e Hora: Converta todas as datas e horas para o formato RFC 3339 (exemplo: 2022-01-01T15:00:00).\n",
    "    - Informações Necessárias: Para agendar uma reunião, o usuário deve fornecer:\n",
    "    - Assunto da reunião\n",
    "    - Data\n",
    "    - Hora\n",
    "    Caso alguma dessas informações não seja fornecida, solicite ao usuário que reformule a solicitação incluindo todos os detalhes.\n",
    "\n",
    "    - Solicitações Incompreensíveis: Se você não entender uma solicitação, peça ao usuário para reformulá-la.\n",
    "    \"\"\"\n",
    "    ),\n",
    "    (\"placeholder\", \"{chat_history}\"),\n",
    "    (\"human\", \"{input}\"),\n",
    "    (\"placeholder\", \"{agent_scratchpad}\"),\n",
    "])"
   ]
  },
  {
   "cell_type": "code",
   "execution_count": null,
   "metadata": {},
   "outputs": [],
   "source": [
    "from langchain.agents import create_tool_calling_agent\n",
    "\n",
    "helper = create_tool_calling_agent(llm, tools_search, prompt_helper)\n",
    "verify = create_tool_calling_agent(llm, [], prompt_revisor)\n",
    "request_identify = create_tool_calling_agent(llm, [], prompt_request_identify)\n",
    "calendar = create_tool_calling_agent(llm, calendar_tool, prompt_calendar)"
   ]
  },
  {
   "cell_type": "code",
   "execution_count": null,
   "metadata": {},
   "outputs": [],
   "source": [
    "from langchain.agents import AgentExecutor\n",
    "\n",
    "agent_helper = AgentExecutor(agent=helper, tools=tools_search, verbose=True)\n",
    "agent_verifier = AgentExecutor(agent=verify, tools=[], verbose=True)\n",
    "agent_request_identifier = AgentExecutor(agent=request_identify, tools=[], verbose=True)\n",
    "agent_calendar = AgentExecutor(agent=calendar, tools=calendar_tool, verbose=True)"
   ]
  },
  {
   "cell_type": "markdown",
   "metadata": {},
   "source": [
    "Config"
   ]
  },
  {
   "cell_type": "code",
   "execution_count": null,
   "metadata": {},
   "outputs": [],
   "source": [
    "config = {\"configurable\": {\"session_id\": \"<foo>\"}}"
   ]
  },
  {
   "cell_type": "markdown",
   "metadata": {},
   "source": [
    "Run the agent"
   ]
  },
  {
   "cell_type": "code",
   "execution_count": null,
   "metadata": {},
   "outputs": [],
   "source": [
    "from langchain_community.chat_message_histories import ChatMessageHistory\n",
    "from langchain_core.runnables.history import RunnableWithMessageHistory\n",
    "import datetime\n",
    "\n",
    "current_datetime = datetime.datetime.now().strftime(\"%Y-%m-%dT%H:%M:%S\")\n",
    "current_weekday = datetime.datetime.now().strftime(\"%A\")\n",
    "\n",
    "message_history = ChatMessageHistory()\n",
    "agent_helper_with_chat_history = RunnableWithMessageHistory(\n",
    "    agent_helper,\n",
    "    # This is needed because in most real world scenarios, a session id is needed\n",
    "    # It isn't really used here because we are using a simple in memory ChatMessageHistory\n",
    "    lambda session_id: message_history,\n",
    "    input_messages_key=\"input\",\n",
    "    history_messages_key=\"chat_history\",\n",
    ")\n",
    "\n",
    "agent_google_calendar_with_chat_history = RunnableWithMessageHistory(\n",
    "    agent_calendar,\n",
    "    # This is needed because in most real world scenarios, a session id is needed\n",
    "    # It isn't really used here because we are using a simple in memory ChatMessageHistory\n",
    "    lambda session_id: message_history,\n",
    "    input_messages_key=\"input\",\n",
    "    history_messages_key=\"chat_history\",\n",
    "    current_datetime=current_datetime,\n",
    "    current_weekday=current_weekday,\n",
    ")\n",
    "\n",
    "def verify_response(input: str, response: str) -> str:\n",
    "    verifier_input = f\"Verifique a seguinte resposta: '{response}'\"\n",
    "    verification_result = RunnableWithMessageHistory(\n",
    "        agent_verifier,\n",
    "        input_messages_key=verifier_input,\n",
    "        history_messages_key=\"chat_history\",\n",
    "    )\n",
    "    return verification_result[\"output\"]"
   ]
  },
  {
   "cell_type": "code",
   "execution_count": null,
   "metadata": {},
   "outputs": [],
   "source": [
    "    # def verify_response(input: str, response: str) -> str:\n",
    "    #     verifier_input = f\"Verifique a seguinte resposta: '{response}'\"\n",
    "    #     verification_result = agent_verifier.invoke(\n",
    "    #         {\"input\": verifier_input},\n",
    "    #         config=config,\n",
    "    #     )\n",
    "    #     return verification_result[\"output\"]"
   ]
  },
  {
   "cell_type": "code",
   "execution_count": null,
   "metadata": {},
   "outputs": [],
   "source": [
    "def identify_request(input: str) -> str:\n",
    "    identify_input = f\"Verifique a seguinte pergunta considerando o contexto da conversa: '{input}'\"\n",
    "    identification_result = agent_request_identifier.invoke(\n",
    "        {\"input\": identify_input},\n",
    "        config=config,\n",
    "    )\n",
    "    return identification_result[\"output\"]"
   ]
  },
  {
   "cell_type": "code",
   "execution_count": null,
   "metadata": {},
   "outputs": [],
   "source": [
    "import datetime\n",
    "\n",
    "def query_rag(input: str) -> str:\n",
    "\n",
    "    # Identifica a requisição do usuário\n",
    "    request = identify_request(input)\n",
    "\n",
    "    # Se for uma requisição de ajuda, chama o agente de ajuda\n",
    "    if request == \"Ajuda\":\n",
    "        response = agent_helper_with_chat_history.invoke(\n",
    "            {\"input\": input},\n",
    "            config=config,\n",
    "        )[\"output\"]\n",
    "\n",
    "        # Verifica se a resposta gerada atende aos critérios\n",
    "        verification_result = verify_response(input, response)\n",
    "        \n",
    "        if \"Resposta válida\" in verification_result:\n",
    "            return response\n",
    "        else:\n",
    "            return verification_result\n",
    "        \n",
    "    # Se for uma requisição de calendário, chama o agente de calendário\n",
    "    elif request == \"Calendário\":\n",
    "        current_datetime = datetime.datetime.now().strftime(\"%Y-%m-%dT%H:%M:%S\")\n",
    "        current_weekday = datetime.datetime.now().strftime(\"%A\")\n",
    "        response = agent_google_calendar_with_chat_history.invoke(\n",
    "            {\"input\": input, \"current_datetime\": current_datetime, \"current_weekday\": current_weekday},\n",
    "            config=config,\n",
    "        )[\"output\"]\n",
    "\n",
    "        return response\n",
    "\n",
    "    # Se não for uma requisição válida, retorna uma mensagem de erro\n",
    "    else:\n",
    "        return \"Desculpe, não consegui entender sua pergunta. Pode reformular?\"    \n"
   ]
  },
  {
   "cell_type": "code",
   "execution_count": null,
   "metadata": {},
   "outputs": [],
   "source": [
    "import gradio as gr\n",
    "\n",
    "iface = gr.Interface(\n",
    "        fn=query_rag,\n",
    "        inputs=\"text\",\n",
    "        outputs=\"text\",\n",
    "        title=\"Groq ChatBot\",\n",
    "        description=\"Groq ChatBot, o seu bot para facilitar sua vida!\",\n",
    "    )\n",
    "\n",
    "iface.launch(share=True)"
   ]
  }
 ],
 "metadata": {
  "kernelspec": {
   "display_name": "Python 3",
   "language": "python",
   "name": "python3"
  },
  "language_info": {
   "codemirror_mode": {
    "name": "ipython",
    "version": 3
   },
   "file_extension": ".py",
   "mimetype": "text/x-python",
   "name": "python",
   "nbconvert_exporter": "python",
   "pygments_lexer": "ipython3",
   "version": "3.12.1"
  }
 },
 "nbformat": 4,
 "nbformat_minor": 2
}
